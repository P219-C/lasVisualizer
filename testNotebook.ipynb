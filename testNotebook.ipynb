{
 "cells": [
  {
   "cell_type": "code",
   "execution_count": null,
   "metadata": {},
   "outputs": [],
   "source": [
    "import sys, os\n",
    "from fnmatch import fnmatch\n",
    "\n",
    "import numpy as np\n",
    "import matplotlib.pyplot as plt\n",
    "\n",
    "import welly\n",
    "\n",
    "import Tkinter, tkFileDialog"
   ]
  },
  {
   "cell_type": "code",
   "execution_count": null,
   "metadata": {},
   "outputs": [],
   "source": [
    "welly.__version__"
   ]
  },
  {
   "cell_type": "code",
   "execution_count": null,
   "metadata": {},
   "outputs": [],
   "source": [
    "root = r'L:\\Empire Oil & Gas\\W Drive - Well Operations\\Well Data\\02_Carnarvon Basin'\n",
    "folderWells = [\"Tubridgi 11\", \"Tubridgi 12\", \"Tubridgi 13\", \"Tubridgi 14\", \"Tubridgi 15\", \"Tubridgi 16\", \"Tubridgi 17\", \"Tubridgi 18\"]\n",
    "# folderWells = [\"Tubridgi 16\"]\n",
    "pattern = \"*.las\"\n",
    "\n",
    "lasPaths = list()"
   ]
  },
  {
   "cell_type": "code",
   "execution_count": null,
   "metadata": {},
   "outputs": [],
   "source": [
    "# fig, axs = plt.subplots(ncols=27)\n",
    "cont = 0\n",
    "for folderWell in folderWells:\n",
    "    path = os.path.join(root, folderWell)\n",
    "\n",
    "    for path, subdirs, files in os.walk(path):\n",
    "        # print(subdirs)\n",
    "        for name in files:\n",
    "            # print(name)\n",
    "            if fnmatch(name, pattern):\n",
    "                lasPath = os.path.join(path, name)\n",
    "\n",
    "                # print(lasPath)\n",
    "                lasPaths.append(lasPath)\n",
    "                # well_x, = welly.read_las(lasPath)\n",
    "\n",
    "                # print(well_x)\n",
    "                \n",
    "                # well_x.savefig('Pablo.png')\n",
    "\n",
    "                # cont = cont+1\n",
    "                # print(projectTest)"
   ]
  },
  {
   "cell_type": "code",
   "execution_count": null,
   "metadata": {},
   "outputs": [],
   "source": [
    "well_x, = welly.read_las(lasPaths[0])\n",
    "well_x.plot()"
   ]
  },
  {
   "cell_type": "code",
   "execution_count": null,
   "metadata": {},
   "outputs": [],
   "source": [
    "len(lasPaths)"
   ]
  },
  {
   "cell_type": "code",
   "execution_count": null,
   "metadata": {},
   "outputs": [],
   "source": [
    "for folderWell in folderWells:\n",
    "    path = os.path.join(root, folderWell)\n",
    "\n",
    "    for path, subdirs, files in os.walk(path):\n",
    "        # print(subdirs)\n",
    "        for folder in subdirs:\n",
    "            # print(os.path.join(path,folder))\n",
    "            try:\n",
    "                # \n",
    "                project = welly.read_las(os.path.join(path,folder) + '*.las')\n",
    "                # print(os.path.join(path,folder) + '//*.las')\n",
    "                print('works')\n",
    "            except:\n",
    "                print('error')\n",
    "            "
   ]
  },
  {
   "cell_type": "code",
   "execution_count": null,
   "metadata": {},
   "outputs": [],
   "source": [
    "%matplotlib inline\n",
    "from IPython import display\n",
    "import time\n",
    "import pylab as pl\n",
    "\n",
    "for Path_x in lasPaths:\n",
    "    well_x, = welly.read_las(lasPaths[1])\n",
    "    well_x.plot()\n",
    "    display.clear_output(wait=True)\n",
    "    display.display(pl.gcf())\n",
    "    time.sleep(1.0)"
   ]
  },
  {
   "cell_type": "code",
   "execution_count": null,
   "metadata": {},
   "outputs": [],
   "source": [
    "for path in lasPaths:\n",
    "    print(path)"
   ]
  },
  {
   "cell_type": "code",
   "execution_count": null,
   "metadata": {},
   "outputs": [],
   "source": [
    "well_x, = welly.read_las(lasPaths[0])\n",
    "print(lasPaths[0])\n",
    "well_x.plot()"
   ]
  },
  {
   "cell_type": "code",
   "execution_count": null,
   "metadata": {},
   "outputs": [],
   "source": [
    "well_x, = welly.read_las(lasPaths[1])\n",
    "print(lasPaths[1])\n",
    "well_x.plot()"
   ]
  },
  {
   "cell_type": "code",
   "execution_count": null,
   "metadata": {},
   "outputs": [],
   "source": [
    "well_x, = welly.read_las(lasPaths[2])\n",
    "print(lasPaths[2])\n",
    "well_x.plot()"
   ]
  },
  {
   "cell_type": "code",
   "execution_count": null,
   "metadata": {},
   "outputs": [],
   "source": [
    "for path in lasPaths:\n",
    "    print(path)\n",
    "    well_x, = welly.read_las(path)\n"
   ]
  },
  {
   "cell_type": "code",
   "execution_count": null,
   "metadata": {},
   "outputs": [],
   "source": [
    "lasPaths"
   ]
  },
  {
   "cell_type": "code",
   "execution_count": null,
   "metadata": {},
   "outputs": [],
   "source": [
    "p = welly.read_las(lasPaths)"
   ]
  },
  {
   "cell_type": "code",
   "execution_count": null,
   "metadata": {},
   "outputs": [],
   "source": [
    "p"
   ]
  },
  {
   "cell_type": "code",
   "execution_count": null,
   "metadata": {},
   "outputs": [],
   "source": [
    "for t in p:\n",
    "    print(t)"
   ]
  },
  {
   "cell_type": "code",
   "execution_count": null,
   "metadata": {},
   "outputs": [],
   "source": [
    "import tkinter as tk\n",
    "from tkinter import filedialog as fd\n",
    "\n",
    "root = tk.Tk()\n",
    "root.withdraw()\n",
    "root.wm_attributes('-topmost', 1)\n",
    "\n",
    "filename = fd.askopenfilename()\n",
    "\n",
    "filename"
   ]
  },
  {
   "cell_type": "code",
   "execution_count": null,
   "metadata": {},
   "outputs": [],
   "source": [
    "import tkinter as tk\n",
    "from tkinter import filedialog as fd\n",
    "\n",
    "root = tk.Tk()\n",
    "root.withdraw()\n",
    "root.wm_attributes('-topmost', 1)\n",
    "\n",
    "filenames = fd.askopenfilenames()\n",
    "\n",
    "filenames"
   ]
  },
  {
   "cell_type": "code",
   "execution_count": 4,
   "metadata": {},
   "outputs": [
    {
     "data": {
      "text/plain": [
       "['C:\\\\Users\\\\pablo\\\\AppData']"
      ]
     },
     "execution_count": 4,
     "metadata": {},
     "output_type": "execute_result"
    }
   ],
   "source": [
    "import tkfilebrowser\n",
    "from tkinter import *\n",
    "\n",
    "root = Tk()\n",
    "root.geometry('200x200')\n",
    "root.grid_rowconfigure(0, weight=1)\n",
    "root.grid_columnconfigure(0, weight=1)\n",
    "\n",
    "root.wm_attributes('-topmost', 1)\n",
    "\n",
    "dirs = []\n",
    "\n",
    "def get_directories():\n",
    "    dirs.append(tkfilebrowser.askopendirnames())\n",
    "    return dirs\n",
    "\n",
    "b1 = Button(root, text='select directories...', command=get_directories)\n",
    "b1.pack(pady=20)\n",
    "\n",
    "# Button for closing\n",
    "exit_button = Button(root, text=\"Exit\", command=root.destroy)\n",
    "exit_button.pack(pady=20)\n",
    "\n",
    "\n",
    "root.mainloop()\n",
    "\n",
    "# Creating one list in case the 'Select folder' button was used multiple times\n",
    "clean_dirs = list()\n",
    "for dir in dirs:\n",
    "    [clean_dirs.append(sub_dir) for sub_dir in dir]\n",
    "clean_dirs = [*set(clean_dirs)]\n",
    "\n",
    "clean_dirs"
   ]
  },
  {
   "cell_type": "code",
   "execution_count": 5,
   "metadata": {},
   "outputs": [
    {
     "data": {
      "text/plain": [
       "[('C:\\\\Users\\\\pablo\\\\AppData',)]"
      ]
     },
     "execution_count": 5,
     "metadata": {},
     "output_type": "execute_result"
    }
   ],
   "source": [
    "dirs"
   ]
  },
  {
   "cell_type": "code",
   "execution_count": null,
   "metadata": {},
   "outputs": [],
   "source": [
    "from tkinter import filedialog\n",
    "dirselect = filedialog.Directory()\n",
    "dirs = []\n",
    "while True:\n",
    "    d = dirselect.show()\n",
    "    if not d: break\n",
    "    dirs.append(d)\n",
    "\n",
    "\n",
    "dirs"
   ]
  }
 ],
 "metadata": {
  "kernelspec": {
   "display_name": "dev_lasViewer",
   "language": "python",
   "name": "python3"
  },
  "language_info": {
   "codemirror_mode": {
    "name": "ipython",
    "version": 3
   },
   "file_extension": ".py",
   "mimetype": "text/x-python",
   "name": "python",
   "nbconvert_exporter": "python",
   "pygments_lexer": "ipython3",
   "version": "3.10.9"
  },
  "orig_nbformat": 4,
  "vscode": {
   "interpreter": {
    "hash": "1f2ec72447ef2f93475ee315ffa9ebace0e2bc352f8dd3f44dee24e7cbb5836e"
   }
  }
 },
 "nbformat": 4,
 "nbformat_minor": 2
}

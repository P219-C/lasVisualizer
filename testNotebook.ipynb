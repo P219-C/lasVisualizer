{
 "cells": [
  {
   "cell_type": "code",
   "execution_count": 1,
   "metadata": {},
   "outputs": [],
   "source": [
    "import sys, os\n",
    "from fnmatch import fnmatch\n",
    "\n",
    "import numpy as np\n",
    "import matplotlib.pyplot as plt\n",
    "\n",
    "import welly"
   ]
  },
  {
   "cell_type": "code",
   "execution_count": 2,
   "metadata": {},
   "outputs": [
    {
     "data": {
      "text/plain": [
       "'0.5.2'"
      ]
     },
     "execution_count": 2,
     "metadata": {},
     "output_type": "execute_result"
    }
   ],
   "source": [
    "welly.__version__"
   ]
  },
  {
   "cell_type": "code",
   "execution_count": 3,
   "metadata": {},
   "outputs": [],
   "source": [
    "root = r'L:\\Empire Oil & Gas\\W Drive - Well Operations\\Well Data\\02_Carnarvon Basin'\n",
    "folderWells = [\"Tubridgi 11\", \"Tubridgi 12\", \"Tubridgi 13\", \"Tubridgi 14\", \"Tubridgi 15\", \"Tubridgi 16\", \"Tubridgi 17\", \"Tubridgi 18\"]\n",
    "# folderWells = [\"Tubridgi 16\"]\n",
    "pattern = \"*.las\"\n",
    "\n",
    "lasPaths = list()"
   ]
  },
  {
   "cell_type": "code",
   "execution_count": 4,
   "metadata": {},
   "outputs": [],
   "source": [
    "# fig, axs = plt.subplots(ncols=27)\n",
    "cont = 0\n",
    "for folderWell in folderWells:\n",
    "    path = os.path.join(root, folderWell)\n",
    "\n",
    "    for path, subdirs, files in os.walk(path):\n",
    "        # print(subdirs)\n",
    "        for name in files:\n",
    "            # print(name)\n",
    "            if fnmatch(name, pattern):\n",
    "                lasPath = os.path.join(path, name)\n",
    "\n",
    "                # print(lasPath)\n",
    "                lasPaths.append(lasPath)\n",
    "                # well_x, = welly.read_las(lasPath)\n",
    "\n",
    "                # print(well_x)\n",
    "                \n",
    "                # well_x.savefig('Pablo.png')\n",
    "\n",
    "                # cont = cont+1\n",
    "                # print(projectTest)"
   ]
  },
  {
   "cell_type": "code",
   "execution_count": null,
   "metadata": {},
   "outputs": [],
   "source": [
    "well_x, = welly.read_las(lasPaths[0])\n",
    "well_x.plot()"
   ]
  },
  {
   "cell_type": "code",
   "execution_count": 8,
   "metadata": {},
   "outputs": [
    {
     "data": {
      "text/plain": [
       "25"
      ]
     },
     "execution_count": 8,
     "metadata": {},
     "output_type": "execute_result"
    }
   ],
   "source": [
    "len(lasPaths)"
   ]
  },
  {
   "cell_type": "code",
   "execution_count": null,
   "metadata": {},
   "outputs": [],
   "source": [
    "for folderWell in folderWells:\n",
    "    path = os.path.join(root, folderWell)\n",
    "\n",
    "    for path, subdirs, files in os.walk(path):\n",
    "        # print(subdirs)\n",
    "        for folder in subdirs:\n",
    "            # print(os.path.join(path,folder))\n",
    "            try:\n",
    "                # \n",
    "                project = welly.read_las(os.path.join(path,folder) + '*.las')\n",
    "                # print(os.path.join(path,folder) + '//*.las')\n",
    "                print('works')\n",
    "            except:\n",
    "                print('error')\n",
    "            "
   ]
  },
  {
   "cell_type": "code",
   "execution_count": null,
   "metadata": {},
   "outputs": [],
   "source": [
    "%matplotlib inline\n",
    "from IPython import display\n",
    "import time\n",
    "import pylab as pl\n",
    "\n",
    "for Path_x in lasPaths:\n",
    "    well_x, = welly.read_las(lasPaths[1])\n",
    "    well_x.plot()\n",
    "    display.clear_output(wait=True)\n",
    "    display.display(pl.gcf())\n",
    "    time.sleep(1.0)"
   ]
  },
  {
   "cell_type": "code",
   "execution_count": 9,
   "metadata": {},
   "outputs": [
    {
     "name": "stdout",
     "output_type": "stream",
     "text": [
      "L:\\Empire Oil & Gas\\W Drive - Well Operations\\Well Data\\02_Carnarvon Basin\\Tubridgi 11\\Tubridgi_11_Transcribed_Log_Data\\Tubridgi_11_Transcribed_Log_Data\\276036\\Imported\\Tubridgi-11_FILE-002.las\n",
      "L:\\Empire Oil & Gas\\W Drive - Well Operations\\Well Data\\02_Carnarvon Basin\\Tubridgi 11\\Tubridgi_11_Transcribed_Log_Data\\Tubridgi_11_Transcribed_Log_Data\\276036\\Imported\\Tubridgi-11_FILE-003.las\n",
      "L:\\Empire Oil & Gas\\W Drive - Well Operations\\Well Data\\02_Carnarvon Basin\\Tubridgi 11\\Tubridgi_11_Transcribed_Log_Data\\Tubridgi_11_Transcribed_Log_Data\\276036\\Imported\\Tubridgi-11_FILE-004.las\n",
      "L:\\Empire Oil & Gas\\W Drive - Well Operations\\Well Data\\02_Carnarvon Basin\\Tubridgi 11\\Tubridgi_11_Transcribed_Log_Data\\Tubridgi_11_Transcribed_Log_Data\\276036\\Imported\\Tubridgi-11_FILE-005.las\n",
      "L:\\Empire Oil & Gas\\W Drive - Well Operations\\Well Data\\02_Carnarvon Basin\\Tubridgi 12\\Tubridgi_12_Transcribed_Log_Data\\Tubridgi_12_Transcribed_Log_Data\\276035\\Imported\\Tubridgi-12_FILE-002.las\n",
      "L:\\Empire Oil & Gas\\W Drive - Well Operations\\Well Data\\02_Carnarvon Basin\\Tubridgi 12\\Tubridgi_12_Transcribed_Log_Data\\Tubridgi_12_Transcribed_Log_Data\\276035\\Imported\\Tubridgi-12_FILE-003.las\n",
      "L:\\Empire Oil & Gas\\W Drive - Well Operations\\Well Data\\02_Carnarvon Basin\\Tubridgi 13\\Tubridgi_13_Transcribed_Log_Data\\Tubridgi_13_Transcribed_Log_Data\\276034\\Imported\\Tubridgi-13_FILE-002.las\n",
      "L:\\Empire Oil & Gas\\W Drive - Well Operations\\Well Data\\02_Carnarvon Basin\\Tubridgi 13\\Tubridgi_13_Transcribed_Log_Data\\Tubridgi_13_Transcribed_Log_Data\\276034\\Imported\\Tubridgi-13_FILE-003.las\n",
      "L:\\Empire Oil & Gas\\W Drive - Well Operations\\Well Data\\02_Carnarvon Basin\\Tubridgi 14\\Tubridgi_14_Transcribed_Log_Data\\Tubridgi_14_Transcribed_Log_Data\\278591\\Imported\\Tubridei-14_FILE-002.las\n",
      "L:\\Empire Oil & Gas\\W Drive - Well Operations\\Well Data\\02_Carnarvon Basin\\Tubridgi 14\\Tubridgi_14_Transcribed_Log_Data\\Tubridgi_14_Transcribed_Log_Data\\278591\\Imported\\Tubridei-14_FILE-003.las\n",
      "L:\\Empire Oil & Gas\\W Drive - Well Operations\\Well Data\\02_Carnarvon Basin\\Tubridgi 15\\W002181 - Tubridgi 15_Compensated Sonic_GR_CALI.las\n",
      "L:\\Empire Oil & Gas\\W Drive - Well Operations\\Well Data\\02_Carnarvon Basin\\Tubridgi 15\\W002181 - Tubridgi 15_DLL_MLL.las\n",
      "L:\\Empire Oil & Gas\\W Drive - Well Operations\\Well Data\\02_Carnarvon Basin\\Tubridgi 15\\W002181 - Tubridgi 15_PD_CN.las\n",
      "L:\\Empire Oil & Gas\\W Drive - Well Operations\\Well Data\\02_Carnarvon Basin\\Tubridgi 16\\Tubridgi_16_17_18_Log_Data\\INCOMPLETE\\TUBRIDGI_16_001.LAS\n",
      "L:\\Empire Oil & Gas\\W Drive - Well Operations\\Well Data\\02_Carnarvon Basin\\Tubridgi 16\\Tubridgi_16_17_18_Log_Data\\INCOMPLETE\\TUBRIDGI_17_001.LAS\n",
      "L:\\Empire Oil & Gas\\W Drive - Well Operations\\Well Data\\02_Carnarvon Basin\\Tubridgi 16\\Tubridgi_16_17_18_Log_Data\\INCOMPLETE\\TUBRIDGI_18_001.LAS\n",
      "L:\\Empire Oil & Gas\\W Drive - Well Operations\\Well Data\\02_Carnarvon Basin\\Tubridgi 16\\Tubridgi_16_17_18_Log_Data\\INCOMPLETE\\TUBRIDGI_18_002.LAS\n",
      "L:\\Empire Oil & Gas\\W Drive - Well Operations\\Well Data\\02_Carnarvon Basin\\Tubridgi 17\\Tubridgi_16_17_18_Log_Data\\INCOMPLETE\\TUBRIDGI_16_001.LAS\n",
      "L:\\Empire Oil & Gas\\W Drive - Well Operations\\Well Data\\02_Carnarvon Basin\\Tubridgi 17\\Tubridgi_16_17_18_Log_Data\\INCOMPLETE\\TUBRIDGI_17_001.LAS\n",
      "L:\\Empire Oil & Gas\\W Drive - Well Operations\\Well Data\\02_Carnarvon Basin\\Tubridgi 17\\Tubridgi_16_17_18_Log_Data\\INCOMPLETE\\TUBRIDGI_18_001.LAS\n",
      "L:\\Empire Oil & Gas\\W Drive - Well Operations\\Well Data\\02_Carnarvon Basin\\Tubridgi 17\\Tubridgi_16_17_18_Log_Data\\INCOMPLETE\\TUBRIDGI_18_002.LAS\n",
      "L:\\Empire Oil & Gas\\W Drive - Well Operations\\Well Data\\02_Carnarvon Basin\\Tubridgi 18\\Tubridgi_16_17_18_Log_Data\\INCOMPLETE\\TUBRIDGI_16_001.LAS\n",
      "L:\\Empire Oil & Gas\\W Drive - Well Operations\\Well Data\\02_Carnarvon Basin\\Tubridgi 18\\Tubridgi_16_17_18_Log_Data\\INCOMPLETE\\TUBRIDGI_17_001.LAS\n",
      "L:\\Empire Oil & Gas\\W Drive - Well Operations\\Well Data\\02_Carnarvon Basin\\Tubridgi 18\\Tubridgi_16_17_18_Log_Data\\INCOMPLETE\\TUBRIDGI_18_001.LAS\n",
      "L:\\Empire Oil & Gas\\W Drive - Well Operations\\Well Data\\02_Carnarvon Basin\\Tubridgi 18\\Tubridgi_16_17_18_Log_Data\\INCOMPLETE\\TUBRIDGI_18_002.LAS\n"
     ]
    }
   ],
   "source": [
    "for path in lasPaths:\n",
    "    print(path)"
   ]
  },
  {
   "cell_type": "code",
   "execution_count": null,
   "metadata": {},
   "outputs": [],
   "source": [
    "well_x, = welly.read_las(lasPaths[0])\n",
    "print(lasPaths[0])\n",
    "well_x.plot()"
   ]
  },
  {
   "cell_type": "code",
   "execution_count": null,
   "metadata": {},
   "outputs": [],
   "source": [
    "well_x, = welly.read_las(lasPaths[1])\n",
    "print(lasPaths[1])\n",
    "well_x.plot()"
   ]
  },
  {
   "cell_type": "code",
   "execution_count": null,
   "metadata": {},
   "outputs": [],
   "source": [
    "well_x, = welly.read_las(lasPaths[2])\n",
    "print(lasPaths[2])\n",
    "well_x.plot()"
   ]
  },
  {
   "cell_type": "code",
   "execution_count": 10,
   "metadata": {},
   "outputs": [
    {
     "name": "stdout",
     "output_type": "stream",
     "text": [
      "L:\\Empire Oil & Gas\\W Drive - Well Operations\\Well Data\\02_Carnarvon Basin\\Tubridgi 11\\Tubridgi_11_Transcribed_Log_Data\\Tubridgi_11_Transcribed_Log_Data\\276036\\Imported\\Tubridgi-11_FILE-002.las\n"
     ]
    },
    {
     "name": "stderr",
     "output_type": "stream",
     "text": [
      "1it [00:00,  9.57it/s]\n"
     ]
    },
    {
     "name": "stdout",
     "output_type": "stream",
     "text": [
      "L:\\Empire Oil & Gas\\W Drive - Well Operations\\Well Data\\02_Carnarvon Basin\\Tubridgi 11\\Tubridgi_11_Transcribed_Log_Data\\Tubridgi_11_Transcribed_Log_Data\\276036\\Imported\\Tubridgi-11_FILE-003.las\n"
     ]
    },
    {
     "name": "stderr",
     "output_type": "stream",
     "text": [
      "1it [00:00,  4.74it/s]\n"
     ]
    },
    {
     "name": "stdout",
     "output_type": "stream",
     "text": [
      "L:\\Empire Oil & Gas\\W Drive - Well Operations\\Well Data\\02_Carnarvon Basin\\Tubridgi 11\\Tubridgi_11_Transcribed_Log_Data\\Tubridgi_11_Transcribed_Log_Data\\276036\\Imported\\Tubridgi-11_FILE-004.las\n"
     ]
    },
    {
     "name": "stderr",
     "output_type": "stream",
     "text": [
      "1it [00:00,  4.44it/s]\n"
     ]
    },
    {
     "name": "stdout",
     "output_type": "stream",
     "text": [
      "L:\\Empire Oil & Gas\\W Drive - Well Operations\\Well Data\\02_Carnarvon Basin\\Tubridgi 11\\Tubridgi_11_Transcribed_Log_Data\\Tubridgi_11_Transcribed_Log_Data\\276036\\Imported\\Tubridgi-11_FILE-005.las\n"
     ]
    },
    {
     "name": "stderr",
     "output_type": "stream",
     "text": [
      "1it [00:00,  5.28it/s]\n"
     ]
    },
    {
     "name": "stdout",
     "output_type": "stream",
     "text": [
      "L:\\Empire Oil & Gas\\W Drive - Well Operations\\Well Data\\02_Carnarvon Basin\\Tubridgi 12\\Tubridgi_12_Transcribed_Log_Data\\Tubridgi_12_Transcribed_Log_Data\\276035\\Imported\\Tubridgi-12_FILE-002.las\n"
     ]
    },
    {
     "name": "stderr",
     "output_type": "stream",
     "text": [
      "1it [00:00,  4.15it/s]\n"
     ]
    },
    {
     "name": "stdout",
     "output_type": "stream",
     "text": [
      "L:\\Empire Oil & Gas\\W Drive - Well Operations\\Well Data\\02_Carnarvon Basin\\Tubridgi 12\\Tubridgi_12_Transcribed_Log_Data\\Tubridgi_12_Transcribed_Log_Data\\276035\\Imported\\Tubridgi-12_FILE-003.las\n"
     ]
    },
    {
     "name": "stderr",
     "output_type": "stream",
     "text": [
      "1it [00:00,  5.23it/s]\n"
     ]
    },
    {
     "name": "stdout",
     "output_type": "stream",
     "text": [
      "L:\\Empire Oil & Gas\\W Drive - Well Operations\\Well Data\\02_Carnarvon Basin\\Tubridgi 13\\Tubridgi_13_Transcribed_Log_Data\\Tubridgi_13_Transcribed_Log_Data\\276034\\Imported\\Tubridgi-13_FILE-002.las\n"
     ]
    },
    {
     "name": "stderr",
     "output_type": "stream",
     "text": [
      "1it [00:00,  4.54it/s]\n"
     ]
    },
    {
     "name": "stdout",
     "output_type": "stream",
     "text": [
      "L:\\Empire Oil & Gas\\W Drive - Well Operations\\Well Data\\02_Carnarvon Basin\\Tubridgi 13\\Tubridgi_13_Transcribed_Log_Data\\Tubridgi_13_Transcribed_Log_Data\\276034\\Imported\\Tubridgi-13_FILE-003.las\n"
     ]
    },
    {
     "name": "stderr",
     "output_type": "stream",
     "text": [
      "1it [00:00,  5.43it/s]\n"
     ]
    },
    {
     "name": "stdout",
     "output_type": "stream",
     "text": [
      "L:\\Empire Oil & Gas\\W Drive - Well Operations\\Well Data\\02_Carnarvon Basin\\Tubridgi 14\\Tubridgi_14_Transcribed_Log_Data\\Tubridgi_14_Transcribed_Log_Data\\278591\\Imported\\Tubridei-14_FILE-002.las\n"
     ]
    },
    {
     "name": "stderr",
     "output_type": "stream",
     "text": [
      "1it [00:00,  4.48it/s]\n"
     ]
    },
    {
     "name": "stdout",
     "output_type": "stream",
     "text": [
      "L:\\Empire Oil & Gas\\W Drive - Well Operations\\Well Data\\02_Carnarvon Basin\\Tubridgi 14\\Tubridgi_14_Transcribed_Log_Data\\Tubridgi_14_Transcribed_Log_Data\\278591\\Imported\\Tubridei-14_FILE-003.las\n"
     ]
    },
    {
     "name": "stderr",
     "output_type": "stream",
     "text": [
      "1it [00:00,  4.83it/s]\n"
     ]
    },
    {
     "name": "stdout",
     "output_type": "stream",
     "text": [
      "L:\\Empire Oil & Gas\\W Drive - Well Operations\\Well Data\\02_Carnarvon Basin\\Tubridgi 15\\W002181 - Tubridgi 15_Compensated Sonic_GR_CALI.las\n"
     ]
    },
    {
     "name": "stderr",
     "output_type": "stream",
     "text": [
      "0it [00:00, ?it/s]c:\\Users\\pablo.crespo-carri\\AppData\\Local\\miniconda3\\envs\\venv_lasVisualizer\\Lib\\site-packages\\welly\\las.py:163: UserWarning: Section was not recognized and not parsed: Tops information section\n",
      "  datasets = from_las_2_or_older(las)\n",
      "1it [00:00,  7.87it/s]\n"
     ]
    },
    {
     "name": "stdout",
     "output_type": "stream",
     "text": [
      "L:\\Empire Oil & Gas\\W Drive - Well Operations\\Well Data\\02_Carnarvon Basin\\Tubridgi 15\\W002181 - Tubridgi 15_DLL_MLL.las\n"
     ]
    },
    {
     "name": "stderr",
     "output_type": "stream",
     "text": [
      "0it [00:00, ?it/s]c:\\Users\\pablo.crespo-carri\\AppData\\Local\\miniconda3\\envs\\venv_lasVisualizer\\Lib\\site-packages\\welly\\las.py:163: UserWarning: Section was not recognized and not parsed: Tops information section\n",
      "  datasets = from_las_2_or_older(las)\n",
      "1it [00:00,  5.88it/s]\n"
     ]
    },
    {
     "name": "stdout",
     "output_type": "stream",
     "text": [
      "L:\\Empire Oil & Gas\\W Drive - Well Operations\\Well Data\\02_Carnarvon Basin\\Tubridgi 15\\W002181 - Tubridgi 15_PD_CN.las\n"
     ]
    },
    {
     "name": "stderr",
     "output_type": "stream",
     "text": [
      "0it [00:00, ?it/s]c:\\Users\\pablo.crespo-carri\\AppData\\Local\\miniconda3\\envs\\venv_lasVisualizer\\Lib\\site-packages\\welly\\las.py:163: UserWarning: Section was not recognized and not parsed: Tops information section\n",
      "  datasets = from_las_2_or_older(las)\n",
      "1it [00:00,  6.29it/s]\n"
     ]
    },
    {
     "name": "stdout",
     "output_type": "stream",
     "text": [
      "L:\\Empire Oil & Gas\\W Drive - Well Operations\\Well Data\\02_Carnarvon Basin\\Tubridgi 16\\Tubridgi_16_17_18_Log_Data\\INCOMPLETE\\TUBRIDGI_16_001.LAS\n"
     ]
    },
    {
     "name": "stderr",
     "output_type": "stream",
     "text": [
      "1it [00:00,  7.30it/s]\n"
     ]
    },
    {
     "name": "stdout",
     "output_type": "stream",
     "text": [
      "L:\\Empire Oil & Gas\\W Drive - Well Operations\\Well Data\\02_Carnarvon Basin\\Tubridgi 16\\Tubridgi_16_17_18_Log_Data\\INCOMPLETE\\TUBRIDGI_17_001.LAS\n"
     ]
    },
    {
     "name": "stderr",
     "output_type": "stream",
     "text": [
      "1it [00:00,  6.85it/s]\n"
     ]
    },
    {
     "name": "stdout",
     "output_type": "stream",
     "text": [
      "L:\\Empire Oil & Gas\\W Drive - Well Operations\\Well Data\\02_Carnarvon Basin\\Tubridgi 16\\Tubridgi_16_17_18_Log_Data\\INCOMPLETE\\TUBRIDGI_18_001.LAS\n"
     ]
    },
    {
     "name": "stderr",
     "output_type": "stream",
     "text": [
      "1it [00:00,  8.40it/s]\n"
     ]
    },
    {
     "name": "stdout",
     "output_type": "stream",
     "text": [
      "L:\\Empire Oil & Gas\\W Drive - Well Operations\\Well Data\\02_Carnarvon Basin\\Tubridgi 16\\Tubridgi_16_17_18_Log_Data\\INCOMPLETE\\TUBRIDGI_18_002.LAS\n"
     ]
    },
    {
     "name": "stderr",
     "output_type": "stream",
     "text": [
      "1it [00:00, 12.64it/s]\n"
     ]
    },
    {
     "name": "stdout",
     "output_type": "stream",
     "text": [
      "L:\\Empire Oil & Gas\\W Drive - Well Operations\\Well Data\\02_Carnarvon Basin\\Tubridgi 17\\Tubridgi_16_17_18_Log_Data\\INCOMPLETE\\TUBRIDGI_16_001.LAS\n"
     ]
    },
    {
     "name": "stderr",
     "output_type": "stream",
     "text": [
      "1it [00:00,  7.04it/s]\n"
     ]
    },
    {
     "name": "stdout",
     "output_type": "stream",
     "text": [
      "L:\\Empire Oil & Gas\\W Drive - Well Operations\\Well Data\\02_Carnarvon Basin\\Tubridgi 17\\Tubridgi_16_17_18_Log_Data\\INCOMPLETE\\TUBRIDGI_17_001.LAS\n"
     ]
    },
    {
     "name": "stderr",
     "output_type": "stream",
     "text": [
      "1it [00:00,  7.29it/s]\n"
     ]
    },
    {
     "name": "stdout",
     "output_type": "stream",
     "text": [
      "L:\\Empire Oil & Gas\\W Drive - Well Operations\\Well Data\\02_Carnarvon Basin\\Tubridgi 17\\Tubridgi_16_17_18_Log_Data\\INCOMPLETE\\TUBRIDGI_18_001.LAS\n"
     ]
    },
    {
     "name": "stderr",
     "output_type": "stream",
     "text": [
      "1it [00:00,  8.19it/s]\n"
     ]
    },
    {
     "name": "stdout",
     "output_type": "stream",
     "text": [
      "L:\\Empire Oil & Gas\\W Drive - Well Operations\\Well Data\\02_Carnarvon Basin\\Tubridgi 17\\Tubridgi_16_17_18_Log_Data\\INCOMPLETE\\TUBRIDGI_18_002.LAS\n"
     ]
    },
    {
     "name": "stderr",
     "output_type": "stream",
     "text": [
      "1it [00:00, 13.52it/s]\n"
     ]
    },
    {
     "name": "stdout",
     "output_type": "stream",
     "text": [
      "L:\\Empire Oil & Gas\\W Drive - Well Operations\\Well Data\\02_Carnarvon Basin\\Tubridgi 18\\Tubridgi_16_17_18_Log_Data\\INCOMPLETE\\TUBRIDGI_16_001.LAS\n"
     ]
    },
    {
     "name": "stderr",
     "output_type": "stream",
     "text": [
      "1it [00:00,  7.15it/s]\n"
     ]
    },
    {
     "name": "stdout",
     "output_type": "stream",
     "text": [
      "L:\\Empire Oil & Gas\\W Drive - Well Operations\\Well Data\\02_Carnarvon Basin\\Tubridgi 18\\Tubridgi_16_17_18_Log_Data\\INCOMPLETE\\TUBRIDGI_17_001.LAS\n"
     ]
    },
    {
     "name": "stderr",
     "output_type": "stream",
     "text": [
      "1it [00:00,  7.41it/s]\n"
     ]
    },
    {
     "name": "stdout",
     "output_type": "stream",
     "text": [
      "L:\\Empire Oil & Gas\\W Drive - Well Operations\\Well Data\\02_Carnarvon Basin\\Tubridgi 18\\Tubridgi_16_17_18_Log_Data\\INCOMPLETE\\TUBRIDGI_18_001.LAS\n"
     ]
    },
    {
     "name": "stderr",
     "output_type": "stream",
     "text": [
      "1it [00:00,  8.40it/s]\n"
     ]
    },
    {
     "name": "stdout",
     "output_type": "stream",
     "text": [
      "L:\\Empire Oil & Gas\\W Drive - Well Operations\\Well Data\\02_Carnarvon Basin\\Tubridgi 18\\Tubridgi_16_17_18_Log_Data\\INCOMPLETE\\TUBRIDGI_18_002.LAS\n"
     ]
    },
    {
     "name": "stderr",
     "output_type": "stream",
     "text": [
      "1it [00:00, 13.12it/s]\n"
     ]
    }
   ],
   "source": [
    "for path in lasPaths:\n",
    "    print(path)\n",
    "    well_x, = welly.read_las(path)\n"
   ]
  },
  {
   "cell_type": "code",
   "execution_count": 5,
   "metadata": {},
   "outputs": [
    {
     "data": {
      "text/plain": [
       "['L:\\\\Empire Oil & Gas\\\\W Drive - Well Operations\\\\Well Data\\\\02_Carnarvon Basin\\\\Tubridgi 11\\\\Tubridgi_11_Transcribed_Log_Data\\\\Tubridgi_11_Transcribed_Log_Data\\\\276036\\\\Imported\\\\Tubridgi-11_FILE-002.las',\n",
       " 'L:\\\\Empire Oil & Gas\\\\W Drive - Well Operations\\\\Well Data\\\\02_Carnarvon Basin\\\\Tubridgi 11\\\\Tubridgi_11_Transcribed_Log_Data\\\\Tubridgi_11_Transcribed_Log_Data\\\\276036\\\\Imported\\\\Tubridgi-11_FILE-003.las',\n",
       " 'L:\\\\Empire Oil & Gas\\\\W Drive - Well Operations\\\\Well Data\\\\02_Carnarvon Basin\\\\Tubridgi 11\\\\Tubridgi_11_Transcribed_Log_Data\\\\Tubridgi_11_Transcribed_Log_Data\\\\276036\\\\Imported\\\\Tubridgi-11_FILE-004.las',\n",
       " 'L:\\\\Empire Oil & Gas\\\\W Drive - Well Operations\\\\Well Data\\\\02_Carnarvon Basin\\\\Tubridgi 11\\\\Tubridgi_11_Transcribed_Log_Data\\\\Tubridgi_11_Transcribed_Log_Data\\\\276036\\\\Imported\\\\Tubridgi-11_FILE-005.las',\n",
       " 'L:\\\\Empire Oil & Gas\\\\W Drive - Well Operations\\\\Well Data\\\\02_Carnarvon Basin\\\\Tubridgi 12\\\\Tubridgi_12_Transcribed_Log_Data\\\\Tubridgi_12_Transcribed_Log_Data\\\\276035\\\\Imported\\\\Tubridgi-12_FILE-002.las',\n",
       " 'L:\\\\Empire Oil & Gas\\\\W Drive - Well Operations\\\\Well Data\\\\02_Carnarvon Basin\\\\Tubridgi 12\\\\Tubridgi_12_Transcribed_Log_Data\\\\Tubridgi_12_Transcribed_Log_Data\\\\276035\\\\Imported\\\\Tubridgi-12_FILE-003.las',\n",
       " 'L:\\\\Empire Oil & Gas\\\\W Drive - Well Operations\\\\Well Data\\\\02_Carnarvon Basin\\\\Tubridgi 13\\\\Tubridgi_13_Transcribed_Log_Data\\\\Tubridgi_13_Transcribed_Log_Data\\\\276034\\\\Imported\\\\Tubridgi-13_FILE-002.las',\n",
       " 'L:\\\\Empire Oil & Gas\\\\W Drive - Well Operations\\\\Well Data\\\\02_Carnarvon Basin\\\\Tubridgi 13\\\\Tubridgi_13_Transcribed_Log_Data\\\\Tubridgi_13_Transcribed_Log_Data\\\\276034\\\\Imported\\\\Tubridgi-13_FILE-003.las',\n",
       " 'L:\\\\Empire Oil & Gas\\\\W Drive - Well Operations\\\\Well Data\\\\02_Carnarvon Basin\\\\Tubridgi 14\\\\Tubridgi_14_Transcribed_Log_Data\\\\Tubridgi_14_Transcribed_Log_Data\\\\278591\\\\Imported\\\\Tubridei-14_FILE-002.las',\n",
       " 'L:\\\\Empire Oil & Gas\\\\W Drive - Well Operations\\\\Well Data\\\\02_Carnarvon Basin\\\\Tubridgi 14\\\\Tubridgi_14_Transcribed_Log_Data\\\\Tubridgi_14_Transcribed_Log_Data\\\\278591\\\\Imported\\\\Tubridei-14_FILE-003.las',\n",
       " 'L:\\\\Empire Oil & Gas\\\\W Drive - Well Operations\\\\Well Data\\\\02_Carnarvon Basin\\\\Tubridgi 15\\\\W002181 - Tubridgi 15_Compensated Sonic_GR_CALI.las',\n",
       " 'L:\\\\Empire Oil & Gas\\\\W Drive - Well Operations\\\\Well Data\\\\02_Carnarvon Basin\\\\Tubridgi 15\\\\W002181 - Tubridgi 15_DLL_MLL.las',\n",
       " 'L:\\\\Empire Oil & Gas\\\\W Drive - Well Operations\\\\Well Data\\\\02_Carnarvon Basin\\\\Tubridgi 15\\\\W002181 - Tubridgi 15_PD_CN.las',\n",
       " 'L:\\\\Empire Oil & Gas\\\\W Drive - Well Operations\\\\Well Data\\\\02_Carnarvon Basin\\\\Tubridgi 16\\\\Tubridgi_16_17_18_Log_Data\\\\INCOMPLETE\\\\TUBRIDGI_16_001.LAS',\n",
       " 'L:\\\\Empire Oil & Gas\\\\W Drive - Well Operations\\\\Well Data\\\\02_Carnarvon Basin\\\\Tubridgi 16\\\\Tubridgi_16_17_18_Log_Data\\\\INCOMPLETE\\\\TUBRIDGI_17_001.LAS',\n",
       " 'L:\\\\Empire Oil & Gas\\\\W Drive - Well Operations\\\\Well Data\\\\02_Carnarvon Basin\\\\Tubridgi 16\\\\Tubridgi_16_17_18_Log_Data\\\\INCOMPLETE\\\\TUBRIDGI_18_001.LAS',\n",
       " 'L:\\\\Empire Oil & Gas\\\\W Drive - Well Operations\\\\Well Data\\\\02_Carnarvon Basin\\\\Tubridgi 16\\\\Tubridgi_16_17_18_Log_Data\\\\INCOMPLETE\\\\TUBRIDGI_18_002.LAS',\n",
       " 'L:\\\\Empire Oil & Gas\\\\W Drive - Well Operations\\\\Well Data\\\\02_Carnarvon Basin\\\\Tubridgi 17\\\\Tubridgi_16_17_18_Log_Data\\\\INCOMPLETE\\\\TUBRIDGI_16_001.LAS',\n",
       " 'L:\\\\Empire Oil & Gas\\\\W Drive - Well Operations\\\\Well Data\\\\02_Carnarvon Basin\\\\Tubridgi 17\\\\Tubridgi_16_17_18_Log_Data\\\\INCOMPLETE\\\\TUBRIDGI_17_001.LAS',\n",
       " 'L:\\\\Empire Oil & Gas\\\\W Drive - Well Operations\\\\Well Data\\\\02_Carnarvon Basin\\\\Tubridgi 17\\\\Tubridgi_16_17_18_Log_Data\\\\INCOMPLETE\\\\TUBRIDGI_18_001.LAS',\n",
       " 'L:\\\\Empire Oil & Gas\\\\W Drive - Well Operations\\\\Well Data\\\\02_Carnarvon Basin\\\\Tubridgi 17\\\\Tubridgi_16_17_18_Log_Data\\\\INCOMPLETE\\\\TUBRIDGI_18_002.LAS',\n",
       " 'L:\\\\Empire Oil & Gas\\\\W Drive - Well Operations\\\\Well Data\\\\02_Carnarvon Basin\\\\Tubridgi 18\\\\Tubridgi_16_17_18_Log_Data\\\\INCOMPLETE\\\\TUBRIDGI_16_001.LAS',\n",
       " 'L:\\\\Empire Oil & Gas\\\\W Drive - Well Operations\\\\Well Data\\\\02_Carnarvon Basin\\\\Tubridgi 18\\\\Tubridgi_16_17_18_Log_Data\\\\INCOMPLETE\\\\TUBRIDGI_17_001.LAS',\n",
       " 'L:\\\\Empire Oil & Gas\\\\W Drive - Well Operations\\\\Well Data\\\\02_Carnarvon Basin\\\\Tubridgi 18\\\\Tubridgi_16_17_18_Log_Data\\\\INCOMPLETE\\\\TUBRIDGI_18_001.LAS',\n",
       " 'L:\\\\Empire Oil & Gas\\\\W Drive - Well Operations\\\\Well Data\\\\02_Carnarvon Basin\\\\Tubridgi 18\\\\Tubridgi_16_17_18_Log_Data\\\\INCOMPLETE\\\\TUBRIDGI_18_002.LAS']"
      ]
     },
     "execution_count": 5,
     "metadata": {},
     "output_type": "execute_result"
    }
   ],
   "source": [
    "lasPaths"
   ]
  },
  {
   "cell_type": "code",
   "execution_count": 6,
   "metadata": {},
   "outputs": [
    {
     "name": "stderr",
     "output_type": "stream",
     "text": [
      "10it [00:01,  4.86it/s]c:\\Users\\pablo.crespo-carri\\AppData\\Local\\miniconda3\\envs\\venv_lasVisualizer\\Lib\\site-packages\\welly\\las.py:163: UserWarning: Section was not recognized and not parsed: Tops information section\n",
      "  datasets = from_las_2_or_older(las)\n",
      "11it [00:02,  5.41it/s]c:\\Users\\pablo.crespo-carri\\AppData\\Local\\miniconda3\\envs\\venv_lasVisualizer\\Lib\\site-packages\\welly\\las.py:163: UserWarning: Section was not recognized and not parsed: Tops information section\n",
      "  datasets = from_las_2_or_older(las)\n",
      "12it [00:02,  5.43it/s]c:\\Users\\pablo.crespo-carri\\AppData\\Local\\miniconda3\\envs\\venv_lasVisualizer\\Lib\\site-packages\\welly\\las.py:163: UserWarning: Section was not recognized and not parsed: Tops information section\n",
      "  datasets = from_las_2_or_older(las)\n",
      "25it [00:03,  6.48it/s]\n"
     ]
    }
   ],
   "source": [
    "p = welly.read_las(lasPaths)"
   ]
  },
  {
   "cell_type": "code",
   "execution_count": 7,
   "metadata": {},
   "outputs": [
    {
     "data": {
      "text/html": [
       "<table><tr><th>Index</th><th>UWI</th><th>Data</th><th>Curves</th></tr><tr><td>0</td><td><strong>W002167</strong></td><td>20&nbsp;curves</td><td>TIME, TENS, TEMP, TT2, TT1, TT4, TT3, GR, SP, LLS, LLD, CALI, MNOR, MINV, MLL, DT, BS, HVOL, AVOL, DEPT</td></tr><tr><td>1</td><td><strong>W002167</strong></td><td>20&nbsp;curves</td><td>TIME, TENS, TEMP, TT2, TT1, TT4, TT3, GR, SP, LLS, LLD, CALI, MNOR, MINV, MLL, DT, BS, HVOL, AVOL, DEPT</td></tr><tr><td>2</td><td><strong>W002167</strong></td><td>20&nbsp;curves</td><td>TIME, TENS, PEDN, PEDF, NPHI, NPRS, NPRD, NPOR, RHOB, DRHO, DPHI, DPRS, DPRD, CALI, GR, TW, BS, HVOL, AVOL, DEPT</td></tr><tr><td>3</td><td><strong>W002167</strong></td><td>20&nbsp;curves</td><td>TIME, TENS, PEDN, PEDF, NPHI, NPRS, NPRD, NPOR, RHOB, DRHO, DPHI, DPRS, DPRD, CALI, GR, TW, BS, HVOL, AVOL, DEPT</td></tr><tr><td>4</td><td><strong>W002169</strong></td><td>20&nbsp;curves</td><td>TIME, TENS, TEMP, TT2, TT1, TT4, TT3, GR, SP, LLS, LLD, CALI, MNOR, MINV, MLL, DT, BS, HVOL, AVOL, DEPT</td></tr><tr><td>5</td><td><strong>W002169</strong></td><td>13&nbsp;curves</td><td>TIME, TENS, PEDF, NPHI, RHOB, DRHO, CALI, GR, TW, BS, HVOL, AVOL, DEPT</td></tr><tr><td>6</td><td><strong>W002170</strong></td><td>20&nbsp;curves</td><td>TIME, TENS, TEMP, TT2, TT1, TT4, TT3, GR, SP, LLS, LLD, CALI, MNOR, MINV, MLL, DT, BS, HVOL, AVOL, DEPT</td></tr><tr><td>7</td><td><strong>W002170</strong></td><td>13&nbsp;curves</td><td>TIME, TENS, PEDF, NPHI, RHOB, DRHO, CALI, GR, TW, BS, HVOL, AVOL, DEPT</td></tr><tr><td>8</td><td><strong>W002175</strong></td><td>20&nbsp;curves</td><td>TIME, TENS, TEMP, TT2, TT1, TT4, TT3, GR, SP, LLS, LLD, CALI, MNOR, MINV, MLL, DT, BS, HVOL, AVOL, DEPT</td></tr><tr><td>9</td><td><strong>W002175</strong></td><td>13&nbsp;curves</td><td>TIME, TENS, PEDF, NPHI, RHOB, DRHO, CALI, GR, TW, BS, HVOL, AVOL, DEPT</td></tr><tr><td>10</td><td><strong>W002181</strong></td><td>10&nbsp;curves</td><td>GR, MCALI, BS, DT, GRRPT, MCALIRPT, DTRPT, GRRPT_1, MCALIRPT_1, DTRPT_1</td></tr><tr><td>11</td><td><strong>W002181</strong></td><td>19&nbsp;curves</td><td>GR, MLL, MCAL, BS, SP, GRRPT, SPRPT, MCALRPT, MLLRPT, GRRPT_1, SPRPT_1, MCALRPT_1, MLLRPT_1, LLD, LLS, LLDRPT, LLSRPT, LLDRPT_1, LLSRPT_1</td></tr><tr><td>12</td><td><strong>W002181</strong></td><td>19&nbsp;curves</td><td>GR, NPHI, RHOB, PE, CALI, GRRPT, CALIRPT, RHOBRPT, NPHIRPT, PERPT, GRRPT_1, CALIRPT_1, RHOBRPT_1, NPHIRPT_1, PERPT_1, CORR, CORRRPT, CORRRPT_1, BS</td></tr><tr><td>13</td><td><strong></strong></td><td>15&nbsp;curves</td><td>SP, ECGR, HCAL, HLLD, HLLS, HART, RXOZ, HMIN, HMNO, PEFZ, RHOZ, HDRA, TNPH, DT, DTL</td></tr><tr><td>14</td><td><strong></strong></td><td>15&nbsp;curves</td><td>SP, ECGR, HCAL, HLLD, HLLS, HART, RXOZ, HMIN, HMNO, PEFZ, RHOZ, HDRA, TNPH, DT, DTL</td></tr><tr><td>15</td><td><strong></strong></td><td>15&nbsp;curves</td><td>SP, ECGR, HCAL, HLLD, HLLS, HART, RXOZ, HMIN, HMNO, PEFZ, RHOZ, HDRA, TNPH, DT, DTL</td></tr><tr><td>16</td><td><strong></strong></td><td>2&nbsp;curves</td><td>TNPH, ECGR</td></tr><tr><td>17</td><td><strong></strong></td><td>15&nbsp;curves</td><td>SP, ECGR, HCAL, HLLD, HLLS, HART, RXOZ, HMIN, HMNO, PEFZ, RHOZ, HDRA, TNPH, DT, DTL</td></tr><tr><td>18</td><td><strong></strong></td><td>15&nbsp;curves</td><td>SP, ECGR, HCAL, HLLD, HLLS, HART, RXOZ, HMIN, HMNO, PEFZ, RHOZ, HDRA, TNPH, DT, DTL</td></tr><tr><td>19</td><td><strong></strong></td><td>15&nbsp;curves</td><td>SP, ECGR, HCAL, HLLD, HLLS, HART, RXOZ, HMIN, HMNO, PEFZ, RHOZ, HDRA, TNPH, DT, DTL</td></tr><tr><td>20</td><td><strong></strong></td><td>2&nbsp;curves</td><td>TNPH, ECGR</td></tr><tr><td>21</td><td><strong></strong></td><td>15&nbsp;curves</td><td>SP, ECGR, HCAL, HLLD, HLLS, HART, RXOZ, HMIN, HMNO, PEFZ, RHOZ, HDRA, TNPH, DT, DTL</td></tr><tr><td>22</td><td><strong></strong></td><td>15&nbsp;curves</td><td>SP, ECGR, HCAL, HLLD, HLLS, HART, RXOZ, HMIN, HMNO, PEFZ, RHOZ, HDRA, TNPH, DT, DTL</td></tr><tr><td>23</td><td><strong></strong></td><td>15&nbsp;curves</td><td>SP, ECGR, HCAL, HLLD, HLLS, HART, RXOZ, HMIN, HMNO, PEFZ, RHOZ, HDRA, TNPH, DT, DTL</td></tr><tr><td>24</td><td><strong></strong></td><td>2&nbsp;curves</td><td>TNPH, ECGR</td></tr></table>"
      ],
      "text/plain": [
       "Project(25 wells: W002167, W002167, W002167, W002167, W002169, W002169, W002170, W002170, W002175, W002175, W002181, W002181, W002181, , , , , , , , , , , , )"
      ]
     },
     "execution_count": 7,
     "metadata": {},
     "output_type": "execute_result"
    }
   ],
   "source": [
    "p"
   ]
  },
  {
   "cell_type": "code",
   "execution_count": 25,
   "metadata": {},
   "outputs": [
    {
     "name": "stdout",
     "output_type": "stream",
     "text": [
      "Well(uwi: 'W002167', name: 'TUBRIDGI-11', 20 curves: ['TIME', 'TENS', 'TEMP', 'TT2', 'TT1', 'TT4', 'TT3', 'GR', 'SP', 'LLS', 'LLD', 'CALI', 'MNOR', 'MINV', 'MLL', 'DT', 'BS', 'HVOL', 'AVOL', 'DEPT'])\n",
      "Well(uwi: 'W002167', name: 'TUBRIDGI-11', 20 curves: ['TIME', 'TENS', 'TEMP', 'TT2', 'TT1', 'TT4', 'TT3', 'GR', 'SP', 'LLS', 'LLD', 'CALI', 'MNOR', 'MINV', 'MLL', 'DT', 'BS', 'HVOL', 'AVOL', 'DEPT'])\n",
      "Well(uwi: 'W002167', name: 'TUBRIDGI-11', 20 curves: ['TIME', 'TENS', 'PEDN', 'PEDF', 'NPHI', 'NPRS', 'NPRD', 'NPOR', 'RHOB', 'DRHO', 'DPHI', 'DPRS', 'DPRD', 'CALI', 'GR', 'TW', 'BS', 'HVOL', 'AVOL', 'DEPT'])\n",
      "Well(uwi: 'W002167', name: 'TUBRIDGI-11', 20 curves: ['TIME', 'TENS', 'PEDN', 'PEDF', 'NPHI', 'NPRS', 'NPRD', 'NPOR', 'RHOB', 'DRHO', 'DPHI', 'DPRS', 'DPRD', 'CALI', 'GR', 'TW', 'BS', 'HVOL', 'AVOL', 'DEPT'])\n",
      "Well(uwi: 'W002169', name: 'TUBRIDGI-12', 20 curves: ['TIME', 'TENS', 'TEMP', 'TT2', 'TT1', 'TT4', 'TT3', 'GR', 'SP', 'LLS', 'LLD', 'CALI', 'MNOR', 'MINV', 'MLL', 'DT', 'BS', 'HVOL', 'AVOL', 'DEPT'])\n",
      "Well(uwi: 'W002169', name: 'TUBRIDGI-12', 13 curves: ['TIME', 'TENS', 'PEDF', 'NPHI', 'RHOB', 'DRHO', 'CALI', 'GR', 'TW', 'BS', 'HVOL', 'AVOL', 'DEPT'])\n",
      "Well(uwi: 'W002170', name: 'TUBRIDGI-13', 20 curves: ['TIME', 'TENS', 'TEMP', 'TT2', 'TT1', 'TT4', 'TT3', 'GR', 'SP', 'LLS', 'LLD', 'CALI', 'MNOR', 'MINV', 'MLL', 'DT', 'BS', 'HVOL', 'AVOL', 'DEPT'])\n",
      "Well(uwi: 'W002170', name: 'TUBRIDGI-13', 13 curves: ['TIME', 'TENS', 'PEDF', 'NPHI', 'RHOB', 'DRHO', 'CALI', 'GR', 'TW', 'BS', 'HVOL', 'AVOL', 'DEPT'])\n",
      "Well(uwi: 'W002175', name: 'TUBRIDGI-14', 20 curves: ['TIME', 'TENS', 'TEMP', 'TT2', 'TT1', 'TT4', 'TT3', 'GR', 'SP', 'LLS', 'LLD', 'CALI', 'MNOR', 'MINV', 'MLL', 'DT', 'BS', 'HVOL', 'AVOL', 'DEPT'])\n",
      "Well(uwi: 'W002175', name: 'TUBRIDGI-14', 13 curves: ['TIME', 'TENS', 'PEDF', 'NPHI', 'RHOB', 'DRHO', 'CALI', 'GR', 'TW', 'BS', 'HVOL', 'AVOL', 'DEPT'])\n",
      "Well(uwi: 'W002181', name: 'TUBRIDGI #15', 10 curves: ['GR', 'MCALI', 'BS', 'DT', 'GRRPT', 'MCALIRPT', 'DTRPT', 'GRRPT_1', 'MCALIRPT_1', 'DTRPT_1'])\n",
      "Well(uwi: 'W002181', name: 'TUBRIDGI #15', 19 curves: ['GR', 'MLL', 'MCAL', 'BS', 'SP', 'GRRPT', 'SPRPT', 'MCALRPT', 'MLLRPT', 'GRRPT_1', 'SPRPT_1', 'MCALRPT_1', 'MLLRPT_1', 'LLD', 'LLS', 'LLDRPT', 'LLSRPT', 'LLDRPT_1', 'LLSRPT_1'])\n",
      "Well(uwi: 'W002181', name: 'TUBRIDGI #15', 19 curves: ['GR', 'NPHI', 'RHOB', 'PE', 'CALI', 'GRRPT', 'CALIRPT', 'RHOBRPT', 'NPHIRPT', 'PERPT', 'GRRPT_1', 'CALIRPT_1', 'RHOBRPT_1', 'NPHIRPT_1', 'PERPT_1', 'CORR', 'CORRRPT', 'CORRRPT_1', 'BS'])\n",
      "Well(uwi: '', name: 'TUBRIDGI - 16', 15 curves: ['SP', 'ECGR', 'HCAL', 'HLLD', 'HLLS', 'HART', 'RXOZ', 'HMIN', 'HMNO', 'PEFZ', 'RHOZ', 'HDRA', 'TNPH', 'DT', 'DTL'])\n",
      "Well(uwi: '', name: 'TUBRIDGI - 17', 15 curves: ['SP', 'ECGR', 'HCAL', 'HLLD', 'HLLS', 'HART', 'RXOZ', 'HMIN', 'HMNO', 'PEFZ', 'RHOZ', 'HDRA', 'TNPH', 'DT', 'DTL'])\n",
      "Well(uwi: '', name: 'TUBRIDGI - 18', 15 curves: ['SP', 'ECGR', 'HCAL', 'HLLD', 'HLLS', 'HART', 'RXOZ', 'HMIN', 'HMNO', 'PEFZ', 'RHOZ', 'HDRA', 'TNPH', 'DT', 'DTL'])\n",
      "Well(uwi: '', name: 'TUBRIDGI - 18', 2 curves: ['TNPH', 'ECGR'])\n",
      "Well(uwi: '', name: 'TUBRIDGI - 16', 15 curves: ['SP', 'ECGR', 'HCAL', 'HLLD', 'HLLS', 'HART', 'RXOZ', 'HMIN', 'HMNO', 'PEFZ', 'RHOZ', 'HDRA', 'TNPH', 'DT', 'DTL'])\n",
      "Well(uwi: '', name: 'TUBRIDGI - 17', 15 curves: ['SP', 'ECGR', 'HCAL', 'HLLD', 'HLLS', 'HART', 'RXOZ', 'HMIN', 'HMNO', 'PEFZ', 'RHOZ', 'HDRA', 'TNPH', 'DT', 'DTL'])\n",
      "Well(uwi: '', name: 'TUBRIDGI - 18', 15 curves: ['SP', 'ECGR', 'HCAL', 'HLLD', 'HLLS', 'HART', 'RXOZ', 'HMIN', 'HMNO', 'PEFZ', 'RHOZ', 'HDRA', 'TNPH', 'DT', 'DTL'])\n",
      "Well(uwi: '', name: 'TUBRIDGI - 18', 2 curves: ['TNPH', 'ECGR'])\n",
      "Well(uwi: '', name: 'TUBRIDGI - 16', 15 curves: ['SP', 'ECGR', 'HCAL', 'HLLD', 'HLLS', 'HART', 'RXOZ', 'HMIN', 'HMNO', 'PEFZ', 'RHOZ', 'HDRA', 'TNPH', 'DT', 'DTL'])\n",
      "Well(uwi: '', name: 'TUBRIDGI - 17', 15 curves: ['SP', 'ECGR', 'HCAL', 'HLLD', 'HLLS', 'HART', 'RXOZ', 'HMIN', 'HMNO', 'PEFZ', 'RHOZ', 'HDRA', 'TNPH', 'DT', 'DTL'])\n",
      "Well(uwi: '', name: 'TUBRIDGI - 18', 15 curves: ['SP', 'ECGR', 'HCAL', 'HLLD', 'HLLS', 'HART', 'RXOZ', 'HMIN', 'HMNO', 'PEFZ', 'RHOZ', 'HDRA', 'TNPH', 'DT', 'DTL'])\n",
      "Well(uwi: '', name: 'TUBRIDGI - 18', 2 curves: ['TNPH', 'ECGR'])\n"
     ]
    }
   ],
   "source": [
    "for t in p:\n",
    "    print(t)"
   ]
  },
  {
   "cell_type": "code",
   "execution_count": null,
   "metadata": {},
   "outputs": [],
   "source": []
  }
 ],
 "metadata": {
  "kernelspec": {
   "display_name": "Python 3.11.0 64-bit",
   "language": "python",
   "name": "python3"
  },
  "language_info": {
   "codemirror_mode": {
    "name": "ipython",
    "version": 3
   },
   "file_extension": ".py",
   "mimetype": "text/x-python",
   "name": "python",
   "nbconvert_exporter": "python",
   "pygments_lexer": "ipython3",
   "version": "3.11.0"
  },
  "orig_nbformat": 4,
  "vscode": {
   "interpreter": {
    "hash": "359afc0c76667134af1d3c85699b90db52655a47325c7470a2132881cfc50912"
   }
  }
 },
 "nbformat": 4,
 "nbformat_minor": 2
}
